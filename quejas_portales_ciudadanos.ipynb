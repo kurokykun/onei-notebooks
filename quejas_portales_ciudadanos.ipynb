{
 "cells": [
  {
   "cell_type": "code",
   "execution_count": 131,
   "metadata": {},
   "outputs": [],
   "source": [
    "from bs4 import BeautifulSoup\n",
    "import requests\n",
    "\n",
    "def get_complaints(dir):\n",
    "    ret=[]\n",
    "    req=requests.get(dir)\n",
    "    soup=BeautifulSoup(req.text,'html.parser')\n",
    "    aux=soup.find(\"div\",id=\"capaPlanteamientos\").findAll(\"div\",{'class':'row respuesta_list'})\n",
    "    for i in range(len(aux)):\n",
    "        tags=aux[i].findChildren(\"div\",recursive=False)[1].findAll(\"div\",{'class':'col-xs-4'})\n",
    "        content=aux[i].findChildren(\"div\",recursive=False)[1].findAll(\"div\",{'class':'col-xs-8'})\n",
    "        aux_dict={}\n",
    "        for j in range(len(tags)):\n",
    "            aux_dict[tags[j].get_text()]=content[j].get_text()\n",
    "        ret.append(aux_dict)\n",
    "    return ret"
   ]
  },
  {
   "cell_type": "code",
   "execution_count": null,
   "metadata": {},
   "outputs": [],
   "source": [
    "artemisa=get_complaints('https://artemisa.gob.cu/es/politica-y-gobierno/atencion-a-la-poblacion')\n",
    "granma=get_complaints('https://www.degranma.gob.cu/es/politica-y-gobierno/atencion-a-la-poblacion')\n",
    "pinar=get_complaints('https://www.redpinar.gob.cu/es/politica-y-gobierno/atencion-a-la-poblacion')\n",
    "caimanera=get_complaints('https://caimanera.gob.cu/es/politica-y-gobierno/atencion-a-la-poblacion')\n",
    "cienfuego=get_complaints('https://www.cienfuegos.gob.cu/es/politica-y-gobierno/atencion-a-la-poblacion-en-linea')\n",
    "guantanamo=get_complaints('https://www.guantanamo.gob.cu/es/politica-y-gobierno/atencion-a-la-poblacion')\n",
    "tunas=get_complaints('https://www.lastunas.gob.cu/es/politica-y-gobierno/atencion-a-la-poblacion-linea1')\n"
   ]
  }
 ],
 "metadata": {
  "kernelspec": {
   "display_name": "Python 3.7.6 ('base')",
   "language": "python",
   "name": "python3"
  },
  "language_info": {
   "codemirror_mode": {
    "name": "ipython",
    "version": 3
   },
   "file_extension": ".py",
   "mimetype": "text/x-python",
   "name": "python",
   "nbconvert_exporter": "python",
   "pygments_lexer": "ipython3",
   "version": "3.7.6"
  },
  "orig_nbformat": 4,
  "vscode": {
   "interpreter": {
    "hash": "c84218b077f41f6dedf6ac49b70b39f66c5767a59110c4ea4fd9dba441d302a1"
   }
  }
 },
 "nbformat": 4,
 "nbformat_minor": 2
}
